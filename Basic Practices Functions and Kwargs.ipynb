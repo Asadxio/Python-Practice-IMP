{
 "cells": [
  {
   "cell_type": "markdown",
   "id": "32ba28a4",
   "metadata": {},
   "source": [
    "## String"
   ]
  },
  {
   "cell_type": "code",
   "execution_count": 1,
   "id": "46f51897",
   "metadata": {
    "scrolled": true
   },
   "outputs": [
    {
     "name": "stdout",
     "output_type": "stream",
     "text": [
      "Asad\n",
      "hello Asad !\n"
     ]
    }
   ],
   "source": [
    "name = input(\"\")\n",
    "print(\"hello {} !\".format(name))"
   ]
  },
  {
   "cell_type": "code",
   "execution_count": 71,
   "id": "b1427ae9",
   "metadata": {},
   "outputs": [
    {
     "name": "stdout",
     "output_type": "stream",
     "text": [
      "Count of is 2\n"
     ]
    }
   ],
   "source": [
    "#From below string print Count of \"Is\"\n",
    "string=\"He is Amol and she is Chaitali\"\n",
    "count = string. count(\"is\")\n",
    "print(\"Count of is {}\".format(count))"
   ]
  },
  {
   "cell_type": "code",
   "execution_count": 3,
   "id": "026a4cc8",
   "metadata": {},
   "outputs": [
    {
     "name": "stdout",
     "output_type": "stream",
     "text": [
      "['Data', 'is', 'new', 'oil']\n"
     ]
    }
   ],
   "source": [
    "#From below string Split the words by space\n",
    "string= \"Data is new oil\"\n",
    "splitted_list = string.split(\" \")\n",
    "print(splitted_list)"
   ]
  },
  {
   "cell_type": "code",
   "execution_count": 4,
   "id": "7534655d",
   "metadata": {},
   "outputs": [
    {
     "name": "stdout",
     "output_type": "stream",
     "text": [
      "Data=is=new=oil\n"
     ]
    }
   ],
   "source": [
    "# now from above List , join all words \"=\" and create a sentence\n",
    "list_1 = [\"Data\", \"is\", \"new\",\"oil\"]\n",
    "new_string = \"=\".join(list_1)\n",
    "print(new_string)"
   ]
  },
  {
   "cell_type": "code",
   "execution_count": 5,
   "id": "12ed13fc",
   "metadata": {},
   "outputs": [
    {
     "name": "stdout",
     "output_type": "stream",
     "text": [
      "I love Programming in Python\n"
     ]
    }
   ],
   "source": [
    "# From below string replace \"Java\" with \"python\"\n",
    "sentence = \"I love Programming in Java\"\n",
    "new_sentence = sentence.replace(\"Java\",\"Python\")\n",
    "print(new_sentence)"
   ]
  },
  {
   "cell_type": "code",
   "execution_count": 6,
   "id": "3e86b3f0",
   "metadata": {},
   "outputs": [
    {
     "name": "stdout",
     "output_type": "stream",
     "text": [
      "This is a message with Spaces,\n"
     ]
    }
   ],
   "source": [
    "message = \"  This is a message with Spaces,  \"\n",
    "strip_msg = message.strip()\n",
    "print(strip_msg)"
   ]
  },
  {
   "cell_type": "code",
   "execution_count": 7,
   "id": "53943f55",
   "metadata": {},
   "outputs": [
    {
     "name": "stdout",
     "output_type": "stream",
     "text": [
      "10\n"
     ]
    }
   ],
   "source": [
    "#7. From below string find postion(start index) of \"sample\"\n",
    "sentence = \"This is a sample sentence.\"\n",
    "position = sentence.find(\"sample\")\n",
    "print(position)"
   ]
  },
  {
   "cell_type": "code",
   "execution_count": 8,
   "id": "4606a7f2",
   "metadata": {},
   "outputs": [
    {
     "name": "stdout",
     "output_type": "stream",
     "text": [
      "Length of the string is: 14\n"
     ]
    }
   ],
   "source": [
    "#8. Given the string \"Python is fun!\", how can you calculate and print its length?\n",
    "text = \"Python is fun!\"\n",
    "length = len(text)\n",
    "print(\"Length of the string is:\", length)"
   ]
  },
  {
   "cell_type": "code",
   "execution_count": 9,
   "id": "61050013",
   "metadata": {},
   "outputs": [
    {
     "name": "stdout",
     "output_type": "stream",
     "text": [
      "elppaeniP\n"
     ]
    }
   ],
   "source": [
    "#9. Print below string in reverse order\n",
    "string = \"Pineapple\"\n",
    "reversed_string = string[::-1]\n",
    "print(reversed_string)\n"
   ]
  },
  {
   "cell_type": "code",
   "execution_count": 10,
   "id": "458ad636",
   "metadata": {},
   "outputs": [
    {
     "name": "stdout",
     "output_type": "stream",
     "text": [
      "Welcome To Python Programming.\n"
     ]
    }
   ],
   "source": [
    "#10. Given the string \"Welcome to Python Programming.\", how can you capitalize the first letter of each word and print the modified string?\n",
    "text = \"Welcome to Python Programming.\"\n",
    "capitalized_text = text.title()\n",
    "print(capitalized_text)\n"
   ]
  },
  {
   "cell_type": "code",
   "execution_count": 11,
   "id": "c92a6d86",
   "metadata": {},
   "outputs": [
    {
     "name": "stdout",
     "output_type": "stream",
     "text": [
      "DATA IS NEW OIL\n"
     ]
    }
   ],
   "source": [
    "#11. Convert all letter of string to Upper Case\n",
    "text = \"Data is new oil\"\n",
    "uppercase_text = text.upper()\n",
    "print(uppercase_text)\n"
   ]
  },
  {
   "cell_type": "code",
   "execution_count": 12,
   "id": "81ed3e68",
   "metadata": {},
   "outputs": [
    {
     "name": "stdout",
     "output_type": "stream",
     "text": [
      "I am learning python\n"
     ]
    }
   ],
   "source": [
    "#12. From below string just convert first lettter of string to upper case\n",
    "text = \"i am learning python\"\n",
    "capitalized_text = text.capitalize()\n",
    "print(capitalized_text)\n"
   ]
  },
  {
   "cell_type": "code",
   "execution_count": 13,
   "id": "ac25cb3d",
   "metadata": {},
   "outputs": [
    {
     "name": "stdout",
     "output_type": "stream",
     "text": [
      "dAta IS nEw Oil\n"
     ]
    }
   ],
   "source": [
    "#13. Convert all uppper case to lower and lower case to upper\n",
    "text = \"DaTA is NeW oIL\"\n",
    "swapped_text = text.swapcase()\n",
    "print(swapped_text)\n"
   ]
  },
  {
   "cell_type": "code",
   "execution_count": 14,
   "id": "42401ba8",
   "metadata": {},
   "outputs": [
    {
     "name": "stdout",
     "output_type": "stream",
     "text": [
      "50\n"
     ]
    }
   ],
   "source": [
    "#14. print the addition of below 2 strings\n",
    "a = 20\n",
    "b = 30\n",
    "result = a + b\n",
    "print(result)\n"
   ]
  },
  {
   "cell_type": "code",
   "execution_count": 15,
   "id": "92d2cca0",
   "metadata": {},
   "outputs": [
    {
     "name": "stdout",
     "output_type": "stream",
     "text": [
      "2030\n"
     ]
    }
   ],
   "source": [
    "a = \"20\"\n",
    "b = \"30\"\n",
    "result = a + b\n",
    "print(result)\n"
   ]
  },
  {
   "cell_type": "markdown",
   "id": "4045abe7",
   "metadata": {},
   "source": [
    "# List"
   ]
  },
  {
   "cell_type": "code",
   "execution_count": 16,
   "id": "fe4efd90",
   "metadata": {},
   "outputs": [
    {
     "name": "stdout",
     "output_type": "stream",
     "text": [
      "[1, 2, 3, 44, 5]\n"
     ]
    }
   ],
   "source": [
    "# 16. From below list replace 4 with 44\n",
    "my_list = [1, 2, 3, 4, 5]\n",
    "my_list[3]= 44\n",
    "print(my_list)"
   ]
  },
  {
   "cell_type": "code",
   "execution_count": 17,
   "id": "237549e6",
   "metadata": {},
   "outputs": [],
   "source": [
    "# 17. In below list add(insert) 200 at index 3\n",
    "my_list = [1, 2, 3, 4, 5]\n",
    "my_list.insert(3,200)"
   ]
  },
  {
   "cell_type": "code",
   "execution_count": 18,
   "id": "f73eed36",
   "metadata": {},
   "outputs": [
    {
     "name": "stdout",
     "output_type": "stream",
     "text": [
      "[1, 2, 3, 200, 4, 5]\n"
     ]
    }
   ],
   "source": [
    "print(my_list)"
   ]
  },
  {
   "cell_type": "code",
   "execution_count": 19,
   "id": "186a9719",
   "metadata": {},
   "outputs": [],
   "source": [
    "# 18. In below list add new number 66\n",
    "my_list = [1, 2, 3, 4, 5]\n",
    "my_list.append(66)"
   ]
  },
  {
   "cell_type": "code",
   "execution_count": 20,
   "id": "2a2b3a78",
   "metadata": {},
   "outputs": [
    {
     "name": "stdout",
     "output_type": "stream",
     "text": [
      "[1, 2, 3, 4, 5, 66]\n"
     ]
    }
   ],
   "source": [
    "print(my_list)\n"
   ]
  },
  {
   "cell_type": "code",
   "execution_count": 21,
   "id": "58ab41ec",
   "metadata": {},
   "outputs": [],
   "source": [
    "# 19 In below list insert new numbers 66,87,99\n",
    "my_list = [1, 2, 3, 4, 5]\n",
    "my_list.insert(2, 66)  \n",
    "my_list.insert(4, 87) \n",
    "my_list.insert(5, 99) "
   ]
  },
  {
   "cell_type": "code",
   "execution_count": 22,
   "id": "4c53b22f",
   "metadata": {},
   "outputs": [
    {
     "name": "stdout",
     "output_type": "stream",
     "text": [
      "[1, 2, 66, 3, 87, 99, 4, 5]\n"
     ]
    }
   ],
   "source": [
    "print(my_list)\n"
   ]
  },
  {
   "cell_type": "code",
   "execution_count": 23,
   "id": "b2cad949",
   "metadata": {},
   "outputs": [],
   "source": [
    "# 20. from below list remove number 3\n",
    "my_list = [1, 2, 3, 4, 5]\n",
    "my_list.remove(3)"
   ]
  },
  {
   "cell_type": "code",
   "execution_count": 24,
   "id": "3105e476",
   "metadata": {},
   "outputs": [
    {
     "name": "stdout",
     "output_type": "stream",
     "text": [
      "[1, 2, 4, 5]\n"
     ]
    }
   ],
   "source": [
    "print(my_list)\n"
   ]
  },
  {
   "cell_type": "code",
   "execution_count": 25,
   "id": "b4e26ab9",
   "metadata": {},
   "outputs": [
    {
     "data": {
      "text/plain": [
       "2"
      ]
     },
     "execution_count": 25,
     "metadata": {},
     "output_type": "execute_result"
    }
   ],
   "source": [
    "# 21. From below list print count of \"cherry\"\n",
    "my_list = [1, 2.5, \"cherry\", 3, \"banana\", 4.0, \"cherry\"]\n",
    "my_list.count(\"cherry\")"
   ]
  },
  {
   "cell_type": "code",
   "execution_count": 26,
   "id": "96cbc1db",
   "metadata": {},
   "outputs": [
    {
     "data": {
      "text/plain": [
       "4"
      ]
     },
     "execution_count": 26,
     "metadata": {},
     "output_type": "execute_result"
    }
   ],
   "source": [
    "# 22. From below list print index of \"banana\"\n",
    "my_list = [1, 2.5, \"apple\", 3, \"banana\", 4.0, \"cherry\"]\n",
    "my_list.index(\"banana\")"
   ]
  },
  {
   "cell_type": "code",
   "execution_count": 27,
   "id": "fd6d0cad",
   "metadata": {},
   "outputs": [
    {
     "data": {
      "text/plain": [
       "['Pune', 'Delhi', 'Mumbai', 'Indore', 'Jaipur']"
      ]
     },
     "execution_count": 27,
     "metadata": {},
     "output_type": "execute_result"
    }
   ],
   "source": [
    "# 23. From below list remove last item\n",
    "my_list = [\"Pune\",\"Delhi\",\"Mumbai\",\"Indore\",\"Jaipur\",\"Dehradun\"]\n",
    "my_list[:-1]"
   ]
  },
  {
   "cell_type": "code",
   "execution_count": 28,
   "id": "9a75b175",
   "metadata": {},
   "outputs": [],
   "source": [
    "#24. Sort the below list in Alphabetical order\n",
    "my_list = [\"Grapes\",\"Apple\",\"Cherry\",\"Mango\",\"Banana\"]\n",
    "my_list.sort()"
   ]
  },
  {
   "cell_type": "code",
   "execution_count": 29,
   "id": "7bc390a4",
   "metadata": {},
   "outputs": [
    {
     "name": "stdout",
     "output_type": "stream",
     "text": [
      "['Apple', 'Banana', 'Cherry', 'Grapes', 'Mango']\n"
     ]
    }
   ],
   "source": [
    "print(my_list)\n"
   ]
  },
  {
   "cell_type": "code",
   "execution_count": 30,
   "id": "bf605929",
   "metadata": {},
   "outputs": [],
   "source": [
    "# 25. Sort below list in reverse Alphabetical order\n",
    "my_list = [\"Grapes\",\"Apple\",\"Cherry\",\"Mango\",\"Banana\"]\n",
    "my_list.sort(reverse=True)"
   ]
  },
  {
   "cell_type": "code",
   "execution_count": 31,
   "id": "ec1a28bc",
   "metadata": {},
   "outputs": [
    {
     "name": "stdout",
     "output_type": "stream",
     "text": [
      "['Mango', 'Grapes', 'Cherry', 'Banana', 'Apple']\n"
     ]
    }
   ],
   "source": [
    "print(my_list)\n"
   ]
  },
  {
   "cell_type": "markdown",
   "id": "d34e746d",
   "metadata": {},
   "source": [
    "# List Class 2"
   ]
  },
  {
   "cell_type": "code",
   "execution_count": 32,
   "id": "4afcb7ed",
   "metadata": {},
   "outputs": [],
   "source": [
    "myList = [3, 'element number two', ['last', 'element']]\n",
    "myList=[]"
   ]
  },
  {
   "cell_type": "code",
   "execution_count": 33,
   "id": "2e09b79c",
   "metadata": {},
   "outputs": [
    {
     "name": "stdout",
     "output_type": "stream",
     "text": [
      "3\n"
     ]
    }
   ],
   "source": [
    "my_list = [1, 2, 3, 4, 5, 6, 7, 8, 9]\n",
    "print(my_list[2])"
   ]
  },
  {
   "cell_type": "code",
   "execution_count": 34,
   "id": "d1acc76d",
   "metadata": {},
   "outputs": [
    {
     "name": "stdout",
     "output_type": "stream",
     "text": [
      "['a', 'b', 16]\n"
     ]
    }
   ],
   "source": [
    "listToModify= ['a','b','sixteen']\n",
    "listToModify[-1] = 16\n",
    "print(listToModify)"
   ]
  },
  {
   "cell_type": "code",
   "execution_count": 35,
   "id": "93165e47",
   "metadata": {},
   "outputs": [
    {
     "name": "stdout",
     "output_type": "stream",
     "text": [
      "8\n"
     ]
    }
   ],
   "source": [
    "listToFindLength = ['this', 'is', 'the', 'list', 'whose', 'length', 'I', 'want']\n",
    "length_of_list = len(listToFindLength)\n",
    "print(length_of_list)"
   ]
  },
  {
   "cell_type": "code",
   "execution_count": 36,
   "id": "44627664",
   "metadata": {},
   "outputs": [
    {
     "name": "stdout",
     "output_type": "stream",
     "text": [
      "3622\n"
     ]
    }
   ],
   "source": [
    "intList = [54, 678, 2890]\n",
    "sum_of_list = sum(intList)\n",
    "print(sum_of_list)"
   ]
  },
  {
   "cell_type": "code",
   "execution_count": 37,
   "id": "a5993cbf",
   "metadata": {},
   "outputs": [
    {
     "name": "stdout",
     "output_type": "stream",
     "text": [
      "53245\n"
     ]
    }
   ],
   "source": [
    "maxList = [677, 53245, 234, 236, 23456, 345, 23526, 34541]\n",
    "max_value = max(maxList)\n",
    "print(max_value)"
   ]
  },
  {
   "cell_type": "code",
   "execution_count": 38,
   "id": "ed5f6b69",
   "metadata": {},
   "outputs": [
    {
     "name": "stdout",
     "output_type": "stream",
     "text": [
      "134\n"
     ]
    }
   ],
   "source": [
    "minList = [351, 984, 1697, 284, 134, 467, 164]\n",
    "min_value = min(minList)\n",
    "print(min_value)"
   ]
  },
  {
   "cell_type": "code",
   "execution_count": 39,
   "id": "118b9de3",
   "metadata": {},
   "outputs": [
    {
     "name": "stdout",
     "output_type": "stream",
     "text": [
      "[1, 2, 3, 'append me!']\n"
     ]
    }
   ],
   "source": [
    "listToAppend = [1, 2, 3]\n",
    "listToAppend.append('append me!')\n",
    "print(listToAppend)"
   ]
  },
  {
   "cell_type": "code",
   "execution_count": 40,
   "id": "89bad6cf",
   "metadata": {},
   "outputs": [
    {
     "name": "stdout",
     "output_type": "stream",
     "text": [
      "8\n"
     ]
    }
   ],
   "source": [
    "listToFindLength = ['this', 'is', 'the', 'list', 'whose', 'length', 'I', 'want']\n",
    "length_of_list = len(listToFindLength)\n",
    "print(length_of_list)"
   ]
  },
  {
   "cell_type": "markdown",
   "id": "b39ca9e2",
   "metadata": {},
   "source": [
    "#  Loops"
   ]
  },
  {
   "cell_type": "markdown",
   "id": "166cdecc",
   "metadata": {},
   "source": [
    "## Example 1: Print the first 10 natural numbers using for loop."
   ]
  },
  {
   "cell_type": "code",
   "execution_count": 41,
   "id": "868ed33d",
   "metadata": {},
   "outputs": [
    {
     "name": "stdout",
     "output_type": "stream",
     "text": [
      "1\n",
      "2\n",
      "3\n",
      "4\n",
      "5\n",
      "6\n",
      "7\n",
      "8\n",
      "9\n",
      "10\n"
     ]
    }
   ],
   "source": [
    "n=11\n",
    "for i in range(1,n):\n",
    "    print(i)"
   ]
  },
  {
   "cell_type": "markdown",
   "id": "490b3f10",
   "metadata": {},
   "source": [
    "## Example 2: Python program to print all the even numbers within the given range."
   ]
  },
  {
   "cell_type": "code",
   "execution_count": 42,
   "id": "b8f32ab0",
   "metadata": {},
   "outputs": [
    {
     "name": "stdout",
     "output_type": "stream",
     "text": [
      "0\n",
      "2\n",
      "4\n",
      "6\n",
      "8\n"
     ]
    }
   ],
   "source": [
    "given_range = 10\n",
    "\n",
    "for i in range(given_range):\n",
    "    if i%2==0:\n",
    "        print(i)"
   ]
  },
  {
   "cell_type": "markdown",
   "id": "ed6aaf09",
   "metadata": {},
   "source": [
    "## Example 3: Python program to calculate the sum of all numbers from 1 to a given number."
   ]
  },
  {
   "cell_type": "code",
   "execution_count": 43,
   "id": "f72da8f4",
   "metadata": {},
   "outputs": [
    {
     "name": "stdout",
     "output_type": "stream",
     "text": [
      "1\n",
      "3\n",
      "6\n",
      "10\n",
      "15\n",
      "21\n",
      "28\n",
      "36\n",
      "45\n",
      "55\n"
     ]
    }
   ],
   "source": [
    "given_number = 10\n",
    "\n",
    "sum=0\n",
    "for i in range(1,given_number+1):\n",
    "    sum+=i\n",
    "    \n",
    "    print(sum)"
   ]
  },
  {
   "cell_type": "markdown",
   "id": "64a48999",
   "metadata": {},
   "source": [
    "## Example 4: Python program to calculate the sum of all the odd numbers within the given range."
   ]
  },
  {
   "cell_type": "code",
   "execution_count": 44,
   "id": "9b4e1abf",
   "metadata": {},
   "outputs": [
    {
     "name": "stdout",
     "output_type": "stream",
     "text": [
      "1\n",
      "4\n",
      "9\n",
      "16\n",
      "25\n"
     ]
    }
   ],
   "source": [
    "given_range = 10\n",
    "\n",
    "sum = 0\n",
    "\n",
    "for i in range(given_range):\n",
    "    if i %2!=0:\n",
    "        sum+=i\n",
    "        print(sum)"
   ]
  },
  {
   "cell_type": "markdown",
   "id": "31c9c2ec",
   "metadata": {},
   "source": [
    "## Example 5: Python program to print a multiplication table of a given number"
   ]
  },
  {
   "cell_type": "code",
   "execution_count": 45,
   "id": "ef8d4259",
   "metadata": {},
   "outputs": [
    {
     "name": "stdout",
     "output_type": "stream",
     "text": [
      "5 x 0 = 0\n",
      "5 x 1 = 5\n",
      "5 x 2 = 10\n",
      "5 x 3 = 15\n",
      "5 x 4 = 20\n",
      "5 x 5 = 25\n",
      "5 x 6 = 30\n",
      "5 x 7 = 35\n",
      "5 x 8 = 40\n",
      "5 x 9 = 45\n",
      "5 x 10 = 50\n"
     ]
    }
   ],
   "source": [
    "given_number = 5\n",
    "\n",
    "for i in range(11):\n",
    "    print(given_number,\"x\",i,\"=\",5*i)"
   ]
  },
  {
   "cell_type": "markdown",
   "id": "1d66add3",
   "metadata": {},
   "source": [
    "## Example 6: Python program to display numbers from a list using a for loop."
   ]
  },
  {
   "cell_type": "code",
   "execution_count": 46,
   "id": "aa91b2d4",
   "metadata": {},
   "outputs": [
    {
     "name": "stdout",
     "output_type": "stream",
     "text": [
      "1\n",
      "2\n",
      "4\n",
      "6\n",
      "88\n",
      "125\n"
     ]
    }
   ],
   "source": [
    "list=[1,2,4,6,88,125]\n",
    "\n",
    "for i in list:\n",
    "    print(i)"
   ]
  },
  {
   "cell_type": "markdown",
   "id": "a07985cb",
   "metadata": {},
   "source": [
    "## Example 7: Python program to count the total number of digits in a number."
   ]
  },
  {
   "cell_type": "code",
   "execution_count": 47,
   "id": "a7cbf34b",
   "metadata": {},
   "outputs": [
    {
     "name": "stdout",
     "output_type": "stream",
     "text": [
      "6\n"
     ]
    }
   ],
   "source": [
    "given_number= 129475\n",
    "\n",
    "given_number=str(given_number)\n",
    "\n",
    "count=0\n",
    "\n",
    "for i in given_number:\n",
    "    count+=1\n",
    "print(count)"
   ]
  },
  {
   "cell_type": "markdown",
   "id": "956d3af8",
   "metadata": {},
   "source": [
    "## Example 8: Python program to check if the given string is a palindrome."
   ]
  },
  {
   "cell_type": "code",
   "execution_count": 48,
   "id": "f4ac6e0d",
   "metadata": {},
   "outputs": [
    {
     "name": "stdout",
     "output_type": "stream",
     "text": [
      "The String madam is a Palindrome.\n"
     ]
    }
   ],
   "source": [
    "given_string='madam'\n",
    "reverse_string=\"\"\n",
    "\n",
    "for i in given_string:\n",
    "    reverse_string=i+reverse_string\n",
    "\n",
    "if(given_string==reverse_string):\n",
    "    print(\"The String\",given_string,\"is a Palindrome.\")\n",
    "else:\n",
    "    print(\"The String\",given_string,\"is not a Palindrome.\")"
   ]
  },
  {
   "cell_type": "markdown",
   "id": "4c90b243",
   "metadata": {},
   "source": [
    "## Example 9: Python program that accepts a word from the user and reverses it."
   ]
  },
  {
   "cell_type": "code",
   "execution_count": 49,
   "id": "8c64c953",
   "metadata": {},
   "outputs": [
    {
     "name": "stdout",
     "output_type": "stream",
     "text": [
      "Asad\n",
      "dasA\n"
     ]
    }
   ],
   "source": [
    "given_string=input()\n",
    "reverse_string=\"\"\n",
    "\n",
    "for i in given_string:\n",
    "    reverse_string=i+reverse_string\n",
    "print(reverse_string)"
   ]
  },
  {
   "cell_type": "markdown",
   "id": "a7484a20",
   "metadata": {},
   "source": [
    "## Example 10: Python program to check if a given number is an Armstrong number"
   ]
  },
  {
   "cell_type": "code",
   "execution_count": 50,
   "id": "e4a749ee",
   "metadata": {},
   "outputs": [
    {
     "name": "stdout",
     "output_type": "stream",
     "text": [
      "The Given Number 153 is an Armstrong Number.\n"
     ]
    }
   ],
   "source": [
    "given_number = 153\n",
    "given_number = str(given_number)\n",
    "string_length = len(given_number)\n",
    "\n",
    "total_sum = 0\n",
    "\n",
    "for digit in given_number:\n",
    "    total_sum += int(digit) ** string_length\n",
    "\n",
    "if total_sum == int(given_number):\n",
    "    print(\"The Given Number\", given_number, \"is an Armstrong Number.\")\n",
    "else:\n",
    "    print(\"The Given Number\", given_number, \"is not an Armstrong Number.\")"
   ]
  },
  {
   "cell_type": "markdown",
   "id": "030ab990",
   "metadata": {},
   "source": [
    "## Example 11: Python program to count the number of even and odd numbers from a series of numbers."
   ]
  },
  {
   "cell_type": "code",
   "execution_count": 51,
   "id": "04678940",
   "metadata": {},
   "outputs": [
    {
     "name": "stdout",
     "output_type": "stream",
     "text": [
      "6 This is an even Number.\n",
      "134 This is an even Number.\n",
      "55 This is an odd number.\n"
     ]
    }
   ],
   "source": [
    "num_list=[1,3,5,6,99,134,55]\n",
    "for i in num_list:\n",
    "    if i %2==0:\n",
    "        print(i,\"This is an even Number.\")\n",
    "else:\n",
    "    print(i,\"This is an odd number.\")"
   ]
  },
  {
   "cell_type": "markdown",
   "id": "256777d6",
   "metadata": {},
   "source": [
    "## Example 12: Python program to display all numbers within a range except the prime numbers."
   ]
  },
  {
   "cell_type": "code",
   "execution_count": 52,
   "id": "a62e3ace",
   "metadata": {},
   "outputs": [
    {
     "name": "stdout",
     "output_type": "stream",
     "text": [
      "Non-Prime Numbers between 10 and 30 are:\n",
      "10\n",
      "12\n",
      "14\n",
      "15\n",
      "16\n",
      "18\n",
      "20\n",
      "21\n",
      "22\n",
      "24\n",
      "25\n",
      "26\n",
      "27\n",
      "28\n",
      "30\n"
     ]
    }
   ],
   "source": [
    "import math\n",
    "\n",
    "def is_not_prime(n):\n",
    "    flag = False\n",
    "    for i in range(2, int(math.sqrt(n)) + 1):\n",
    "        if n % i == 0:\n",
    "            flag = True\n",
    "            break  # You should break out of the loop if a divisor is found\n",
    "    return flag\n",
    "\n",
    "range_starts = 10\n",
    "range_ends = 30\n",
    "\n",
    "print(\"Non-Prime Numbers between\", range_starts, \"and\", range_ends, \"are:\")\n",
    "for number in filter(is_not_prime, range(range_starts, range_ends + 1)):\n",
    "    print(number)\n"
   ]
  },
  {
   "cell_type": "markdown",
   "id": "4cd4eeed",
   "metadata": {},
   "source": [
    "## Example 13: Python program to get the Fibonacci series between 0 to 50.\n"
   ]
  },
  {
   "cell_type": "code",
   "execution_count": 53,
   "id": "ca0c7cd3",
   "metadata": {},
   "outputs": [
    {
     "name": "stdout",
     "output_type": "stream",
     "text": [
      "55\n"
     ]
    }
   ],
   "source": [
    "num = 50\n",
    "first_value, second_value = 0, 1\n",
    "\n",
    "for n in range(0, num):\n",
    "    if n <= 1:\n",
    "        next = n\n",
    "    else:\n",
    "        next = first_value + second_value\n",
    "        first_value, second_value = second_value, next\n",
    "\n",
    "    if next > num:\n",
    "        break\n",
    "\n",
    "print(next)"
   ]
  },
  {
   "cell_type": "markdown",
   "id": "782cd13c",
   "metadata": {},
   "source": [
    "## Example 14: Python program to find the factorial of a given number.\n"
   ]
  },
  {
   "cell_type": "code",
   "execution_count": 54,
   "id": "d43968b4",
   "metadata": {},
   "outputs": [
    {
     "name": "stdout",
     "output_type": "stream",
     "text": [
      "The factorial of 5 is 120\n"
     ]
    }
   ],
   "source": [
    "given_number=5\n",
    "\n",
    "factorial =1\n",
    "for i in range(1,given_number+1):\n",
    "    factorial = factorial*i\n",
    "    \n",
    "print(\"The factorial of\",given_number,\"is\",factorial)"
   ]
  },
  {
   "cell_type": "markdown",
   "id": "bdd50241",
   "metadata": {},
   "source": [
    "## Example 15: Python program that accepts a string and calculates the number of digits and letters."
   ]
  },
  {
   "cell_type": "code",
   "execution_count": 55,
   "id": "c49b23ff",
   "metadata": {},
   "outputs": [
    {
     "name": "stdout",
     "output_type": "stream",
     "text": [
      "Asad000741447\n",
      "The input string Asad000741447 has 4 letters and 9 digits.\n"
     ]
    }
   ],
   "source": [
    "user_input = input()\n",
    "digits = 0\n",
    "letters = 0\n",
    "\n",
    "for i in user_input:\n",
    "    if i.isdigit():\n",
    "        digits += 1\n",
    "    elif i.isalpha():\n",
    "        letters += 1\n",
    "\n",
    "print(\"The input string\", user_input, \"has\", letters, \"letters and\", digits, \"digits.\")"
   ]
  },
  {
   "cell_type": "markdown",
   "id": "97cb3552",
   "metadata": {},
   "source": [
    "# Dictionary"
   ]
  },
  {
   "cell_type": "markdown",
   "id": "a65b2581",
   "metadata": {},
   "source": [
    "## 1. Given the following dictionary, print all the keys."
   ]
  },
  {
   "cell_type": "code",
   "execution_count": 56,
   "id": "caefd126",
   "metadata": {},
   "outputs": [
    {
     "name": "stdout",
     "output_type": "stream",
     "text": [
      "{'name': 'Alice', 'age': 25, 'city': 'New York', 'occupation': 'Engineer'}\n",
      "name\n",
      "age\n",
      "city\n",
      "occupation\n"
     ]
    }
   ],
   "source": [
    "my_dict = {\"name\": \"Alice\", \"age\": 25, \"city\": \"New York\", \"occupation\": \"Engineer\"}\n",
    "print(my_dict)\n",
    "\n",
    "# Print all the keys\n",
    "for key in my_dict.keys():\n",
    "    print(key)"
   ]
  },
  {
   "cell_type": "markdown",
   "id": "21f54408",
   "metadata": {},
   "source": [
    "## . Given the following dictionary, print all the Values."
   ]
  },
  {
   "cell_type": "code",
   "execution_count": 57,
   "id": "46076990",
   "metadata": {},
   "outputs": [
    {
     "name": "stdout",
     "output_type": "stream",
     "text": [
      "Alice\n",
      "25\n",
      "New York\n",
      "Engineer\n"
     ]
    }
   ],
   "source": [
    "my_dict = {\"name\": \"Alice\", \"age\": 25, \"city\": \"New York\", \"occupation\": \"Engineer\"}\n",
    "for values in my_dict.values():\n",
    "    print(values)"
   ]
  },
  {
   "cell_type": "markdown",
   "id": "0bf255d4",
   "metadata": {},
   "source": [
    "## 2. Print all values of dictionary \n"
   ]
  },
  {
   "cell_type": "code",
   "execution_count": 58,
   "id": "b446a201",
   "metadata": {},
   "outputs": [
    {
     "name": "stdout",
     "output_type": "stream",
     "text": [
      "Alice\n",
      "25\n",
      "New York\n",
      "Engineer\n"
     ]
    }
   ],
   "source": [
    "my_dict = {\"name\": \"Alice\", \"age\": 25, \"city\": \"New York\", \"occupation\": \"Engineer\"}\n",
    "\n",
    "# Print all the values\n",
    "for value in my_dict.values():\n",
    "    print(value)"
   ]
  },
  {
   "cell_type": "markdown",
   "id": "49bf1f64",
   "metadata": {},
   "source": [
    "## 3. Print all values except \"New York\"\n"
   ]
  },
  {
   "cell_type": "code",
   "execution_count": 59,
   "id": "8b8cb91f",
   "metadata": {},
   "outputs": [
    {
     "name": "stdout",
     "output_type": "stream",
     "text": [
      "Alice\n",
      "25\n",
      "Engineer\n"
     ]
    }
   ],
   "source": [
    "my_dict = {\"name\": \"Alice\", \"age\": 25, \"city\": \"New York\", \"occupation\": \"Engineer\"}\n",
    "\n",
    "# Print all values except the one with the key_to_exclude\n",
    "for value in my_dict.values():\n",
    "    if value!= \"New York\":\n",
    "        print(value)"
   ]
  },
  {
   "cell_type": "markdown",
   "id": "3e19442c",
   "metadata": {},
   "source": [
    "## 4.  Delete key \"age\" from below dict\n"
   ]
  },
  {
   "cell_type": "code",
   "execution_count": 60,
   "id": "3d8138ed",
   "metadata": {},
   "outputs": [
    {
     "name": "stdout",
     "output_type": "stream",
     "text": [
      "{'name': 'Alice', 'city': 'New York', 'occupation': 'Engineer'}\n"
     ]
    }
   ],
   "source": [
    "my_dict = {\"name\": \"Alice\", \"age\": 25, \"city\": \"New York\", \"occupation\": \"Engineer\"}\n",
    "\n",
    "# Delete the \"age\" key from the dictionary\n",
    "if \"age\" in my_dict:\n",
    "    del my_dict[\"age\"]\n",
    "\n",
    "print(my_dict)"
   ]
  },
  {
   "cell_type": "markdown",
   "id": "cb9c74ac",
   "metadata": {},
   "source": [
    "## 5. Print value of \"occupation\" from below dictionary.\n"
   ]
  },
  {
   "cell_type": "code",
   "execution_count": 61,
   "id": "c1b0fe13",
   "metadata": {},
   "outputs": [
    {
     "name": "stdout",
     "output_type": "stream",
     "text": [
      "Engineer\n"
     ]
    }
   ],
   "source": [
    "my_dict = {\"name\": \"Alice\", \"age\": 25, \"city\": \"New York\", \"occupation\": \"Engineer\"}\n",
    "\n",
    "# Print the value associated with the key \"occupation\"\n",
    "print(my_dict[\"occupation\"])"
   ]
  },
  {
   "cell_type": "markdown",
   "id": "00f85f22",
   "metadata": {},
   "source": [
    "# Functions"
   ]
  },
  {
   "cell_type": "markdown",
   "id": "56a3b696",
   "metadata": {},
   "source": [
    "## 1. Write a python function for addition of 2 number\n"
   ]
  },
  {
   "cell_type": "code",
   "execution_count": 62,
   "id": "315e9700",
   "metadata": {},
   "outputs": [
    {
     "name": "stdout",
     "output_type": "stream",
     "text": [
      "1217\n"
     ]
    }
   ],
   "source": [
    "def add_numbers (num1,num2):\n",
    "    sum=num1+num2\n",
    "    return sum\n",
    "result = add_numbers(4,1213)\n",
    "print(result)"
   ]
  },
  {
   "cell_type": "markdown",
   "id": "560b34de",
   "metadata": {},
   "source": [
    "## 2. Write function to add all numbers of list and print\n"
   ]
  },
  {
   "cell_type": "code",
   "execution_count": 63,
   "id": "e8bbdce9",
   "metadata": {},
   "outputs": [
    {
     "name": "stdout",
     "output_type": "stream",
     "text": [
      "20\n"
     ]
    }
   ],
   "source": [
    "def sum(*numbers):\n",
    "    total = 0\n",
    "    for x in numbers:\n",
    "        total += x\n",
    "    return total\n",
    "\n",
    "Total = sum(8, 2, 3, 0, 7)\n",
    "print(Total)"
   ]
  },
  {
   "cell_type": "markdown",
   "id": "6c98ecbd",
   "metadata": {},
   "source": [
    "## 3. Write a fucntion to check if number is even or odd and print it.\n"
   ]
  },
  {
   "cell_type": "code",
   "execution_count": 64,
   "id": "79ede889",
   "metadata": {},
   "outputs": [
    {
     "name": "stdout",
     "output_type": "stream",
     "text": [
      "23 Is Odd Number\n"
     ]
    }
   ],
   "source": [
    "def even_odd(num):\n",
    "  if num%2==0:\n",
    "    print(\"{} Is Even Number\".format(num))\n",
    "  else:\n",
    "    print(\"{} Is Odd Number\".format(num))\n",
    "\n",
    "even_odd(23)"
   ]
  },
  {
   "cell_type": "markdown",
   "id": "0e6912f3",
   "metadata": {},
   "source": [
    "## 4. Take any no of inputs in functions and print them.\n"
   ]
  },
  {
   "cell_type": "code",
   "execution_count": 65,
   "id": "70c39af6",
   "metadata": {},
   "outputs": [
    {
     "name": "stdout",
     "output_type": "stream",
     "text": [
      "1\n",
      "2\n",
      "3\n",
      "hello\n",
      "11\n"
     ]
    }
   ],
   "source": [
    "def print_args(*args):\n",
    "    for arg in args:\n",
    "        print(arg)\n",
    "    return 11\n",
    "\n",
    "a = print_args(1, 2, 3, \"hello\")\n",
    "print(a)"
   ]
  },
  {
   "cell_type": "markdown",
   "id": "15a470d8",
   "metadata": {},
   "source": [
    "## 5. Write a python function which will take N number of inputs and print addition of all numbers"
   ]
  },
  {
   "cell_type": "code",
   "execution_count": 66,
   "id": "08d427e2",
   "metadata": {},
   "outputs": [
    {
     "name": "stdout",
     "output_type": "stream",
     "text": [
      "6\n"
     ]
    }
   ],
   "source": [
    "def add_number(*numbers):\n",
    "  sum=0\n",
    "  for num in numbers:\n",
    "    sum = sum + num\n",
    "  return sum\n",
    "\n",
    "addition = add_number(1,2,3)\n",
    "print(addition)"
   ]
  },
  {
   "cell_type": "markdown",
   "id": "5c610213",
   "metadata": {},
   "source": [
    "## 6. Write python function which will take N number of string as inputs and will return list of Upper case string\n"
   ]
  },
  {
   "cell_type": "code",
   "execution_count": 67,
   "id": "fd581395",
   "metadata": {},
   "outputs": [
    {
     "name": "stdout",
     "output_type": "stream",
     "text": [
      "['ASAD', 'ALI', 'MULLA', 'DATA', 'ANALYST', 'PRACTICING', 'FUNCTIONS', 'AND', 'KWARGS']\n"
     ]
    }
   ],
   "source": [
    "def upper_string(*words):\n",
    "  upper_list=[]\n",
    "  for word in words:\n",
    "    upper_list.append(word.upper())\n",
    "  return upper_list\n",
    "\n",
    "upper_words= upper_string(\"asad\",\"ali\",\"mulla\",\"data\",\"analyst\",\"practicing\",\"Functions\",\"and\",\"Kwargs\")\n",
    "print(upper_words)"
   ]
  },
  {
   "cell_type": "markdown",
   "id": "b7a775e2",
   "metadata": {},
   "source": [
    "## 7. write a python function which takes multiple keyword arguments.\n"
   ]
  },
  {
   "cell_type": "code",
   "execution_count": 68,
   "id": "f6b83c5e",
   "metadata": {},
   "outputs": [
    {
     "name": "stdout",
     "output_type": "stream",
     "text": [
      "name,Alice\n",
      "age,30\n",
      "city,New York\n"
     ]
    }
   ],
   "source": [
    "def print_kwargs(**kwargs):\n",
    "    for key, value in kwargs.items():\n",
    "        print(\"{},{}\".format(key,value))\n",
    "\n",
    "print_kwargs(name=\"Alice\", age=30, city=\"New York\")\n"
   ]
  },
  {
   "cell_type": "markdown",
   "id": "0e8beb81",
   "metadata": {},
   "source": [
    "## 8. write a python function which takes keyword agruments and find maximum value among all\n"
   ]
  },
  {
   "cell_type": "code",
   "execution_count": 69,
   "id": "9fa222d4",
   "metadata": {},
   "outputs": [
    {
     "name": "stdout",
     "output_type": "stream",
     "text": [
      "15\n"
     ]
    }
   ],
   "source": [
    "def find_max(**kwargs):\n",
    "    return max(kwargs.values())\n",
    "\n",
    "result = find_max(a=10, b=5, c=15)\n",
    "print(result)"
   ]
  }
 ],
 "metadata": {
  "kernelspec": {
   "display_name": "Python 3 (ipykernel)",
   "language": "python",
   "name": "python3"
  },
  "language_info": {
   "codemirror_mode": {
    "name": "ipython",
    "version": 3
   },
   "file_extension": ".py",
   "mimetype": "text/x-python",
   "name": "python",
   "nbconvert_exporter": "python",
   "pygments_lexer": "ipython3",
   "version": "3.11.3"
  }
 },
 "nbformat": 4,
 "nbformat_minor": 5
}
